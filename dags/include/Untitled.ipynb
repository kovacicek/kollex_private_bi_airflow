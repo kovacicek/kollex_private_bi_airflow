{
 "cells": [
  {
   "cell_type": "code",
   "execution_count": 1,
   "id": "ffd8b89c",
   "metadata": {
    "pycharm": {
     "name": "#%%\n"
    }
   },
   "outputs": [],
   "source": [
    "import pandas as pd\n",
    "\n",
    "products_to_identify = pd.read_csv(\"test_input.csv\", chunksize=50)"
   ]
  },
  {
   "cell_type": "code",
   "execution_count": 2,
   "id": "59b7afef",
   "metadata": {
    "pycharm": {
     "name": "#%%\n"
    }
   },
   "outputs": [
    {
     "name": "stderr",
     "output_type": "stream",
     "text": [
      "/Users/danilodobras/.conda/envs/kollex_private_bi_analysis/lib/python3.8/site-packages/fuzzywuzzy/fuzz.py:11: UserWarning: Using slow pure-python SequenceMatcher. Install python-Levenshtein to remove this warning\n",
      "  warnings.warn('Using slow pure-python SequenceMatcher. Install python-Levenshtein to remove this warning')\n"
     ]
    }
   ],
   "source": [
    "from fuzzywuzzy import fuzz"
   ]
  },
  {
   "cell_type": "code",
   "execution_count": 3,
   "id": "3f24d18b",
   "metadata": {
    "pycharm": {
     "name": "#%%\n"
    }
   },
   "outputs": [],
   "source": [
    "from sqlalchemy import create_engine\n",
    "\n",
    "# Logging\n",
    "\n",
    "\n",
    "pg_host =  \"dwh-production.db.kollex.io\"\n",
    "pg_user =  \"dwh\"\n",
    "pg_password =  \"2QSw6bIRpa6aCKnn3P4uahJFId49640E2te0yt1vnPE91o1x17\"\n",
    "\n",
    "pg_database = \"dwh\"\n",
    "\n",
    "pg_connect_string = f\"postgresql://{pg_user}:{pg_password}@{pg_host}/{pg_database}\"\n",
    "pg_engine = create_engine(f\"{pg_connect_string}\", echo=False, pool_pre_ping=True, pool_recycle=36000)\n",
    "chunk_size = 2000  # environ.get('CHUNK_SIZE')\n",
    "\n",
    "\n",
    "connection = pg_engine.connect()\n",
    "\n",
    "df_product = pd.read_sql(\"\"\"\n",
    "                                select concat( title , ' ' , brand , ' ' , amount_single_unit , 'x' , net_content ) as name_allskus\n",
    "                                      , identifier\n",
    "\n",
    "                                      , net_content::text         as \"base_unit_content_allskus\"\n",
    "                                      , amount_single_unit::text          as \"no_of_base_units_allskus\"\n",
    "\n",
    "                                    from prod_raw_layer.all_skus\n",
    "\n",
    "                       \"\"\"\n",
    ", con=pg_engine)"
   ]
  },
  {
   "cell_type": "code",
   "execution_count": null,
   "id": "7b272581",
   "metadata": {
    "pycharm": {
     "name": "#%%\n"
    }
   },
   "outputs": [
    {
     "name": "stdout",
     "output_type": "stream",
     "text": [
      "finished getting all SKUs from DB\n",
      "finished name_similarity and size is 307\n",
      "finished base_unit_content_similarity and size is 307\n",
      "finished no_base_units_similarity and size is 307\n",
      "finished getting all SKUs from DB\n",
      "finished name_similarity and size is 723\n",
      "finished base_unit_content_similarity and size is 723\n",
      "finished no_base_units_similarity and size is 723\n",
      "finished getting all SKUs from DB\n",
      "finished name_similarity and size is 145\n",
      "finished base_unit_content_similarity and size is 145\n",
      "finished no_base_units_similarity and size is 145\n",
      "finished getting all SKUs from DB\n"
     ]
    }
   ],
   "source": [
    "for chunk_num, chunk in enumerate(products_to_identify):\n",
    "    start_index = chunk_num * chunk_size\n",
    "    end_index = min(chunk_num * chunk_size + chunk_size, len(df_product))\n",
    "    # .. do calculaton on chunk here ..\n",
    "    df_product_joined = df_product.merge(chunk, how='cross')\n",
    "    print(\"finished getting all SKUs from DB\")\n",
    "\n",
    "    df_product_joined['name_similarity'] = df_product_joined.apply(\n",
    "        lambda x:\n",
    "        fuzz.token_set_ratio(\n",
    "            x['name_allskus'],\n",
    "            x['name']\n",
    "        ),\n",
    "        axis=1)\n",
    "    df_product_joined = df_product_joined[\n",
    "        df_product_joined['name_similarity'] >= 80\n",
    "        ]\n",
    "\n",
    "    print(\"finished name_similarity and size is \" + str(\n",
    "        len(df_product_joined)))\n",
    "    if len(df_product_joined.index) == 0:\n",
    "        continue\n",
    "    df_product_joined[\n",
    "        'base_unit_content_similarity'] = df_product_joined.apply(\n",
    "        lambda x:\n",
    "        fuzz.token_set_ratio(\n",
    "            str(x['base_unit_content_allskus']),\n",
    "            str(x['base_unit_content'])\n",
    "        ),\n",
    "        axis=1)\n",
    "\n",
    "    print(\"finished base_unit_content_similarity and size is \" + str(\n",
    "        len(df_product_joined)))\n",
    "    if len(df_product_joined.index) == 0:\n",
    "        continue\n",
    "    df_product_joined['no_base_units_similarity'] = df_product_joined.apply(\n",
    "        lambda x:\n",
    "        fuzz.token_set_ratio(\n",
    "            str(x['no_of_base_units_allskus']),\n",
    "            str(x['no_of_base_units'])\n",
    "        ),\n",
    "        axis=1)\n",
    "    print(\"finished no_base_units_similarity and size is \" + str(\n",
    "        len(df_product_joined)))\n",
    "\n",
    "    if len(df_product_joined.index) == 0:\n",
    "        continue\n",
    "    df_product_joined = df_product_joined[\n",
    "        (df_product_joined['base_unit_content_similarity'] >= 100) &\n",
    "        (df_product_joined['no_base_units_similarity'] >= 100)]\n",
    "    df_product_joined.drop_duplicates(subset=['name_allskus',\n",
    "                                              'identifier',\n",
    "                                              'gfgh_id',\n",
    "                                              'name',\n",
    "                                              'name_similarity'],\n",
    "                                      inplace=True\n",
    "                                      )\n",
    "    df_product_joined.to_csv(\"result.csv\", mode='a', header=False)\n",
    "    "
   ]
  },
  {
   "cell_type": "code",
   "execution_count": null,
   "id": "53886cb8",
   "metadata": {
    "pycharm": {
     "name": "#%%\n"
    }
   },
   "outputs": [],
   "source": []
  }
 ],
 "metadata": {
  "kernelspec": {
   "display_name": "Python 3 (ipykernel)",
   "language": "python",
   "name": "python3"
  },
  "language_info": {
   "codemirror_mode": {
    "name": "ipython",
    "version": 3
   },
   "file_extension": ".py",
   "mimetype": "text/x-python",
   "name": "python",
   "nbconvert_exporter": "python",
   "pygments_lexer": "ipython3",
   "version": "3.8.13"
  }
 },
 "nbformat": 4,
 "nbformat_minor": 5
}